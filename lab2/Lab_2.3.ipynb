{
  "cells":[
    {
      "cell_type":"markdown",
      "source":[
        "# Лабораторная работа №2. Методы поиска\n",
        "**Выполнил студент группы БВТ1903 Шевченко А.А.**\n",
        "\n",
        "**Задание**\n",
        "\n",
        "Расставить на стандартной 64-клеточной шахматной доске 8 ферзей так, чтобы ни один из них не находился под боем другого». Подразумевается, что ферзь бьёт все клетки, расположенные по вертикалям, горизонталям и обеим диагоналям Написать программу, которая находит хотя бы один способ решения задач."
      ],
      "attachments":{
        
      },
      "metadata":{
        
      }
    },
    {
      "cell_type":"code",
      "source":[
        "def make_quins_attack(array):\n",
        "    \"\"\"\n",
        "    пересчитывает клетки под атакой на всём поле\n",
        "    \"\"\"\n",
        "    length = len(array)\n",
        "    for y in range(length):  # очищаем закрытые клетки\n",
        "        for x in range(length):\n",
        "            if array[y][x] == 1:\n",
        "                array[y][x] = 0\n",
        "    for y in range(length):  # закрываем клетки\n",
        "        for x in range(length):\n",
        "            if array[y][x] == 2:\n",
        "                buffer = 0\n",
        "                for i in range(length):\n",
        "                    if array[i][x] == 0:  # закрываем клетки по вертикали\n",
        "                        array[i][x] = 1\n",
        "                    if array[y][i] == 0:  # закрываем клетки по горизонтали\n",
        "                        array[y][i] = 1\n",
        "                    # закрываем клетки по диагонали \\\n",
        "                    if x >= y and length > x - y + i >= 0:  # королева в верхней правой части доски\n",
        "                        if array[i][x - y + i] == 0:\n",
        "                            array[i][x - y + i] = 1\n",
        "                    elif length > y - x + i >= 0:  # королева в нижней левой части доски\n",
        "                        if array[y - x + i][i] == 0:\n",
        "                            array[y - x + i][i] = 1\n",
        "                    # закрываем клетки по диагонали \/\n",
        "                    if x + y <= length and length > x + y - i >= 0:  # королева в верхней левой части доски\n",
        "                        if array[i][x + y - i] == 0:\n",
        "                            array[i][x + y - i] = 1\n",
        "                    elif length > y + x - i >= 0:  # королева в нижней правой части доски\n",
        "                        if array[y + x - i][i] == 0:\n",
        "                            array[y + x - i][i] = 1\n",
        "\n",
        "\n",
        "def filling_quins(array, quins_amount):\n",
        "    length = len(array)\n",
        "    for y in range(length):\n",
        "        for x in range(length):\n",
        "            if array[y][x] == 0:  # нашли свободное место для королевы\n",
        "                array[y][x] = 2\n",
        "                quins_amount -= 1\n",
        "                make_quins_attack(array)\n",
        "                if quins_amount == 0:  # королев не осталось\n",
        "                    return 1  # королевы успешно расставленны\n",
        "                if filling_quins(array, quins_amount) == 1:\n",
        "                    return 1  # королевы успешно расставленны\n",
        "                else:\n",
        "                    array[y][x] = 0\n",
        "                    quins_amount += 1\n",
        "                    make_quins_attack(array)\n",
        "    return -1  # неудача\n",
        "\n",
        "\n",
        "def chess_2(board_length, quins_amount):\n",
        "    board = [0] * board_length\n",
        "    for i in range(board_length):  # формируем нашу доску как массив из массивов\n",
        "        board[i] = [0] * board_length\n",
        "    if filling_quins(board, quins_amount) == 1:  # ищем доску\n",
        "        print(\"Комбинация найдена!\")\n",
        "    else:\n",
        "        print(\"Комбинации не существует!\")\n",
        "    return board\n",
        "\n",
        "class Colors:\n",
        "    WHITE = '\\u001b[47m'\n",
        "    BLACK = '\\u001b[48m'\n",
        "    PURPLE = '\\u001b[45m'\n",
        "    GREEN = '\\u001b[42m'\n",
        "    RESET = '\\u001b[0m'\n",
        "\n",
        "\n",
        "our_board = chess_2(8, 8)\n",
        "\n",
        "white_f = False\n",
        "for y in our_board:\n",
        "    for x in y:\n",
        "        if white_f:\n",
        "            white_f = False\n",
        "        else:\n",
        "            white_f = True\n",
        "        if x == 0:\n",
        "            if white_f:\n",
        "                print(Colors.WHITE + \" O \" + Colors.RESET, end='')\n",
        "            else:\n",
        "                print(Colors.BLACK + \" O \" + Colors.RESET, end='')\n",
        "        elif x == 1:\n",
        "            print(Colors.GREEN + \" З \" + Colors.RESET, end='')\n",
        "        else:\n",
        "            print(Colors.PURPLE + \" Ф \" + Colors.RESET, end='')\n",
        "    print('')\n",
        "    if white_f:\n",
        "        white_f = False\n",
        "    else:\n",
        "        white_f = True"
      ],
      "execution_count":null,
      "outputs":[
        
      ],
      "metadata":{
        
      }
    },
    {
      "cell_type":"markdown",
      "source":[
        "## Вывод: В ходе третьей части данной лабораторной я релиазовал задачу правильно расположения восьми ферзей на шестидятоси четрех клеточной шахматной доске."
      ],
      "attachments":{
        
      },
      "metadata":{
        
      }
    }
  ],
  "metadata":{
    
  },
  "nbformat":4,
  "nbformat_minor":0
}