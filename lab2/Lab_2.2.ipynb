{
  "cells":[
    {
      "cell_type":"markdown",
      "source":[
        "# Лабораторная работа №2. Методы поиска\n",
        "**Выполнил студент группы БВТ1903 Шевченко А.А.**\n",
        "\n",
        "### Задание:\n",
        "\n",
        "- Простое рехэширование \n",
        "- Рехэширование с помощью псевдослучайных чисел\n",
        "- Метод цепочек"
      ],
      "attachments":{
        
      },
      "metadata":{
        
      }
    },
    {
      "cell_type":"code",
      "source":[
        "import random\n",
        "class ClassForRehash:\n",
        "    def __init__(self, value1):\n",
        "        self.value1 = value1\n",
        "        self.hash = int((((value1 % ClassForRehash.MAX_HASH_TABLE) * 331) & 127) % ClassForRehash.MAX_HASH_TABLE)\n",
        "\n",
        "    MAX_HASH_TABLE = 8\n",
        "class SimpleRehashTable:\n",
        "\n",
        "    def __init__(self, length):\n",
        "        self.table = [None] * length\n",
        "\n",
        "    def add_el(self, element):\n",
        "        original_hash = element.hash\n",
        "        if self.table[original_hash] is None:\n",
        "            self.table[original_hash] = element\n",
        "            print(\"объект со значением %i имеет хэш: %i (рехеширование не требовалось)\"\n",
        "                  % (self.table[original_hash].value1, element.hash))\n",
        "            return\n",
        "\n",
        "        \"\"\"\"\"\n",
        "        простое рехеширование\n",
        "        \"\"\"\"\"\n",
        "        new_hash = original_hash + 1\n",
        "        while new_hash != original_hash:\n",
        "            if new_hash >= len(self.table):\n",
        "                new_hash = 0\n",
        "                continue\n",
        "            if self.table[new_hash] is None:\n",
        "                element.hash = new_hash\n",
        "                self.table[new_hash] = element\n",
        "                print(\"объект со значением %i имеет хэш: %i (рехешировано. коллизия была в хеше: %i)\"\n",
        "                      % (self.table[new_hash].value1, element.hash, original_hash))\n",
        "                return\n",
        "            new_hash += 1\n",
        "        print(\"таблица заполнена!\")\n",
        "        return\n",
        "simple_re = SimpleRehashTable(ClassForRehash.MAX_HASH_TABLE)\n",
        "for i in range(len(simple_re.table) + 2):\n",
        "    simple_re.add_el(ClassForRehash(random.randint(0, 9)))\n",
        "class RandomRehashTable:\n",
        "\n",
        "    def __init__(self, length):\n",
        "        self.table = [None] * length\n",
        "\n",
        "    def add_el(self, element):\n",
        "        original_hash = element.hash\n",
        "        if self.table[original_hash] is None:\n",
        "            self.table[original_hash] = element\n",
        "            print(\"объект со значением %i имеет хэш: %i (рехеширование не требовалось)\"\n",
        "                  % (self.table[original_hash].value1, original_hash))\n",
        "            return\n",
        "\n",
        "        \"\"\"\"\"\n",
        "        случайное рехеширование\n",
        "        \"\"\"\"\"\n",
        "        table_len = len(self.table)\n",
        "        r = 1\n",
        "        for ii in range(10):  # range(число попыток определить новый хеш)\n",
        "            r *= 5\n",
        "            r = r % (4 * table_len)\n",
        "            new_hash = r \/\/ 4\n",
        "            if self.table[new_hash] is None:\n",
        "                element.hash = new_hash\n",
        "                self.table[new_hash] = element\n",
        "                print(\"объект со значением %i имеет хэш: %i (рехешировано. коллизия была в хеше: %i)\"\n",
        "                      % (self.table[new_hash].value1, element.hash, original_hash))\n",
        "                return\n",
        "        print(\"Не удалось найти свободный хеш в таблице!\")\n",
        "        return\n",
        "random_re = RandomRehashTable(ClassForRehash.MAX_HASH_TABLE)\n",
        "for i in range(len(random_re.table) + 2):\n",
        "    random_re.add_el(ClassForRehash(random.randint(0, 9)))\n",
        "class ChainRehashTable:\n",
        "\n",
        "    def __init__(self, length):\n",
        "        self.table = [None] * length\n",
        "\n",
        "    def add_el(self, element):\n",
        "        \"\"\"\"\"\n",
        "        метод цепочек\n",
        "        \"\"\"\"\"\n",
        "        original_hash = element.hash\n",
        "        if self.table[original_hash] is None:\n",
        "            self.table[original_hash] = [element]\n",
        "            return\n",
        "        else:\n",
        "            length = len(self.table[original_hash])\n",
        "            self.table[original_hash].append(element)\n",
        "            return\n",
        "chain_re = ChainRehashTable(ClassForRehash.MAX_HASH_TABLE)\n",
        "for i in range(len(chain_re.table) + 2):\n",
        "    chain_re.add_el(ClassForRehash(random.randint(0, 9)))\n",
        "hash = 0\n",
        "for x in chain_re.table:  # вывод хеш таблицы для метода цепочек\n",
        "    print(\"[hash: %i]\" % hash, end=\" \")\n",
        "    if x is None:\n",
        "        print(\"Empty\")\n",
        "    else:\n",
        "        for y in x:\n",
        "            print(y.value1, end=\" \")\n",
        "        print(\"\")\n",
        "    hash += 1"
      ],
      "execution_count":null,
      "outputs":[
        
      ],
      "metadata":{
        
      }
    },
    {
      "cell_type":"markdown",
      "source":[
        "## Вывод: В ходе второй части данной лабораторной я узнал, что такое рехеширование и реализовал 3 вида рехеширования:Простое рехэширование, Рехэширование с помощью псевдослучайных чисел и Метод цепочек."
      ],
      "attachments":{
        
      },
      "metadata":{
        
      }
    }
  ],
  "metadata":{
    
  },
  "nbformat":4,
  "nbformat_minor":0
}