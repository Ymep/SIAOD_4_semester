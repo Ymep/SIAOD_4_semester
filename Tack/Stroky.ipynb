{
  "cells":[
    {
      "cell_type":"markdown",
      "source":[
        "# Задачи на строки\n",
        "Выполнил: Шевченко А.А., группа БВТ 1903"
      ],
      "attachments":{
        
      },
      "metadata":{
        
      }
    },
    {
      "cell_type":"markdown",
      "source":[
        "**Задача 1.**\n",
        "\n",
        "Даны две строки: s1 и s2 с одинаковым размером, проверьте, может ли\n",
        "некоторая перестановка строки s1 “победить” некоторую перестановку\n",
        "строки s2 или наоборот.\n",
        "Строка x может “победить” строку y (обе имеют размер n), если x[i]> = y\n",
        "[i] (в алфавитном порядке) для всех i от 0 до n-1."
      ],
      "attachments":{
        
      },
      "metadata":{
        
      }
    },
    {
      "cell_type":"code",
      "source":[
        "def pobeda(str1, str2):\n",
        "    sorted1 = ''.join(sorted(str1));\n",
        "    sorted2 = ''.join(sorted(str2));\n",
        "    firstWon = True; secondWon = True;\n",
        "    \n",
        "    for i in range(0, len(sorted1)):\n",
        "        if not (sorted1[i] >= sorted2[i]):\n",
        "            firstWon = False\n",
        "            break;\n",
        "    \n",
        "    if not firstWon:\n",
        "        for i in range(0, len(sorted1)):\n",
        "            if not(sorted2[i] >= sorted1[i]):\n",
        "                secondWon = False\n",
        "                break;\n",
        "    else: secondWon = False\n",
        "    \n",
        "    return (firstWon or secondWon)\n",
        "print(pobeda('abc', 'xya'))\n",
        "print(pobeda('abe', 'acd'))"
      ],
      "execution_count":null,
      "outputs":[
        
      ],
      "metadata":{
        
      }
    },
    {
      "cell_type":"markdown",
      "source":[
        "**Задача 2.**\n",
        "\n",
        "Дана строка s, вернуть самую длинную полиндромную подстроку в s."
      ],
      "attachments":{
        
      },
      "metadata":{
        
      }
    },
    {
      "cell_type":"code",
      "source":[
        "def isPalindrom(inStr):\n",
        "    length = len(inStr)\n",
        "    if length == 0 or length == 1:\n",
        "        return True\n",
        "    else:\n",
        "        flag = True\n",
        "        for i in range(0, int(length \/ 2)):\n",
        "            if not(inStr[i] == inStr[length - (i + 1)]):\n",
        "                flag = False\n",
        "        return flag\n",
        "\n",
        "def solve(text):\n",
        "    length = len(text)\n",
        "    if (length == 0 or length == 1):\n",
        "        return text\n",
        "    result = text[0:1]\n",
        "    \n",
        "    for i in range(0, length):\n",
        "        offset = 0\n",
        "        if (i <= (length - (i + 1))):\n",
        "            offset = i\n",
        "        else:\n",
        "            offset = length - (i + 1)\n",
        "        \n",
        "        for j in range(0, offset + 1):\n",
        "            temp1 = text[i - j: 2 * j + 1]\n",
        "            temp2 = text[i - j: 2 * j]\n",
        "            if isPalindrom(temp1):\n",
        "                if len(temp1) > len(result):\n",
        "                    result = temp1\n",
        "            elif isPalindrom(temp2):\n",
        "                if len(temp2) > len(result):\n",
        "                    result = temp2\n",
        "            else: break;\n",
        "    \n",
        "    return result\n",
        "\n",
        "print(solve('babad'))\n",
        "print(solve('cbbd'))\n",
        "print(solve('hgffgs'))"
      ],
      "execution_count":null,
      "outputs":[
        
      ],
      "metadata":{
        
      }
    },
    {
      "cell_type":"markdown",
      "source":[
        "**Задача 3.**\n",
        "\n",
        "Вернуть количество отдельных непустых подстрок текста, которые могут\n",
        "быть записаны как конкатенация некоторой строки с самой собой (т.е. она\n",
        "может быть записана, как a + a, где a - некоторая строка)."
      ],
      "attachments":{
        
      },
      "metadata":{
        
      }
    },
    {
      "cell_type":"code",
      "source":[
        "def empty(text):\n",
        "    length = len(text)\n",
        "    result = []\n",
        "    for i in range(0, length):\n",
        "        for j in range(i + 1, length + 1):\n",
        "            temp = text[i:j]\n",
        "            for i in range(0, len(temp)):\n",
        "                flag = False\n",
        "                if temp[0:i] == temp[i:len(temp)]:\n",
        "                    result.append(temp)\n",
        "                    flag = True\n",
        "                if flag == True: break;              \n",
        "    return len(set(result))\n",
        "print(empty('abcabcabc'))"
      ],
      "execution_count":null,
      "outputs":[
        
      ],
      "metadata":{
        
      }
    },
    {
      "cell_type":"markdown",
      "source":[
        "## Вывод: В ходе данной практической работы. Я научился работать со строками и реализовал три задачи, связанные со строками."
      ],
      "attachments":{
        
      },
      "metadata":{
        
      }
    }
  ],
  "metadata":{
    
  },
  "nbformat":4,
  "nbformat_minor":0
}