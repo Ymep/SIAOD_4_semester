{
  "cells":[
    {
      "cell_type":"markdown",
      "source":[
        "# **Контрольные задачи по дисциплине СиАОД №1**\n",
        "\n",
        "выполнил Шевченко А.А.\n",
        "\n",
        "группа БВТ 1903"
      ],
      "attachments":{
        
      },
      "metadata":{
        
      }
    },
    {
      "cell_type":"markdown",
      "source":[
        "**Задача 1. «Треугольник с максимальным периметром»**\n",
        "\n",
        "Массив A состоит из целых положительных чисел ­ длин отрезков. Составьте из трех отрезков такой треугольник, чтобы его периметр был максимально возможным.\n",
        "Если невозможно составить треугольник с положительной площадью ­ функция возвращает 0."
      ],
      "attachments":{
        
      },
      "metadata":{
        
      }
    },
    {
      "cell_type":"code",
      "source":[
        "length = int(input(\"кол-во эл. = \"))\n",
        "def massive(len):\n",
        "    array = []\n",
        "    print(\"Элементы массива\")\n",
        "    for i in range(len):\n",
        "        array.append(int(input()))\n",
        "    return array\n",
        "mas = massive(length)\n",
        "def puzir(arr):\n",
        "    for i in range(length-1):\n",
        "        for j in range(length-i-1):\n",
        "            if arr[j] < arr[j+1]:\n",
        "                arr[j], arr[j+1] = arr[j+1], arr[j]\n",
        "    return arr\n",
        "\n",
        "print(puzir(mas))\n",
        "\n",
        "def max_per(arr):\n",
        "    for i in range(length-2):\n",
        "        if arr[i]+arr[i+1] > arr[i+2] and arr[i]+arr[i+2] > arr[i+1] and arr[i+2]+arr[i+1] > arr[i]:\n",
        "            per = arr[i] + arr[i+1] + arr[i+2]\n",
        "            return per\n",
        "    return 0\n",
        "print(max_per(mas))"
      ],
      "execution_count":null,
      "outputs":[
        
      ],
      "metadata":{
        
      }
    },
    {
      "cell_type":"markdown",
      "source":[
        "**Задача 3. «Сортировка диагоналей в матрице»**\n",
        "\n",
        "Дана матрица mat размером m * n, значения ­ целочисленные. Напишите функцию, сортирующую каждую диагональ матрицы по возрастанию и возвращающую получившуюся матрицу."
      ],
      "attachments":{
        
      },
      "metadata":{
        
      }
    },
    {
      "cell_type":"code",
      "source":[
        "import numpy\n",
        "\n",
        "\n",
        "def sort_matrix(mat):\n",
        "    height = len(mat)\n",
        "    width = len(mat[0])\n",
        "\n",
        "    for x_start in range(1, width):\n",
        "        line = []\n",
        "        x = x_start\n",
        "        for y in range(height - (0 if width - height - x >= 0 else abs(width - height - x))):\n",
        "            line.append(mat[y][x])\n",
        "            x += 1\n",
        "        line.sort()\n",
        "\n",
        "        x = x_start\n",
        "        for y in range(height - (0 if width - height - x >= 0 else abs(width - height - x))):\n",
        "            mat[y][x] = line[y]\n",
        "            x += 1\n",
        "\n",
        "    for y_start in range(0, height):\n",
        "        line = []\n",
        "        y = y_start\n",
        "        for x in range(width - (0 if height - width - y >= 0 else abs(height - width - y))):\n",
        "            line.append(mat[y][x])\n",
        "            y += 1\n",
        "        line.sort()\n",
        "\n",
        "        y = y_start\n",
        "        for x in range(width - (0 if height - width - y >= 0 else abs(height - width - y))):\n",
        "            mat[y][x] = line[x]\n",
        "            y += 1\n",
        "\n",
        "\n",
        "matrix = numpy.random.randint(0, 10, size=(5,5))\n",
        "print(matrix)\n",
        "\n",
        "sort_matrix(matrix)\n",
        "print(matrix)"
      ],
      "execution_count":null,
      "outputs":[
        
      ],
      "metadata":{
        
      }
    },
    {
      "cell_type":"markdown",
      "source":[
        "**Задача 2. «Максимальное число»**\n",
        "\n",
        "Дан массив неотрицательных целых чисел nums. Расположите их в таком порядке, чтобы\n",
        "вместе они образовали максимально возможное число"
      ],
      "attachments":{
        
      },
      "metadata":{
        
      }
    },
    {
      "cell_type":"code",
      "source":[
        "import random\n",
        "\n",
        "length = int(input(\"кол-во эл. = \"))\n",
        "def massive(length):\n",
        "    array = []\n",
        "    print(\"Элементы массива\")\n",
        "    for i in range(length):\n",
        "        array.append(random.randint(0,100))\n",
        "    return array\n",
        "mas = massive(length)\n",
        "print(mas)\n",
        "def sort_first_element(arr):\n",
        "    b = -1\n",
        "    mas1 = []\n",
        "    for i in range(len(arr)):\n",
        "        a = arr[i]\n",
        "        while b\/\/10 != 0:\n",
        "            b = a \/\/ 10\n",
        "            buffer = b % 10\n",
        "        mas1.append(buffer)\n",
        "        b = -1\n",
        "    for i in range(len(mas1)):\n",
        "        if mas1[i] == 0:\n",
        "            mas1[i] = arr[i]\n",
        "    return mas1\n",
        "mas1 = sort_first_element(mas)\n",
        "print(mas1)\n",
        "def sort_main_mas(mas,mas1):\n",
        "    for i in range(len(mas)-1):\n",
        "        for j in range(len(mas)-i-1):\n",
        "            if mas1[j] < mas1[j+1]:\n",
        "                mas1[j], mas1[j+1] = mas1[j+1], mas1[j]\n",
        "                mas[j], mas[j+1] = mas[j+1], mas[j]\n",
        "    return mas\n",
        "print(sort_main_mas(mas,mas1))\n",
        "\n",
        "\n",
        "def str123(mas): \n",
        "    string = ' '\n",
        "    for x in mas:\n",
        "        string += str(x)\n",
        "    return string\n",
        "\n",
        "print(str123(mas))"
      ],
      "execution_count":null,
      "outputs":[
        
      ],
      "metadata":{
        
      }
    },
    {
      "cell_type":"markdown",
      "source":[
        "## Вывод: В ходе данной практической работы я применял методы сортировки, которые узнал в первой лабораторной и реализовал задачи: Треугольник с максимальным периметром, Максимальное число, Сортировка диагоналей в матрице."
      ],
      "attachments":{
        
      },
      "metadata":{
        
      }
    }
  ],
  "metadata":{
    
  },
  "nbformat":4,
  "nbformat_minor":0
}