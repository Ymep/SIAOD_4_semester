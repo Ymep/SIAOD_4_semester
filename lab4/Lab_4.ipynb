{
  "cells":[
    {
      "cell_type":"markdown",
      "source":[
        "# Лабораторная работа 4. Реализация стека\/дека.\n",
        "Выполнил студент группы БВТ1903 Шевченко А.А."
      ],
      "attachments":{
        
      },
      "metadata":{
        
      }
    },
    {
      "cell_type":"markdown",
      "source":[
        "Реализовать следующие структуры данных:\n",
        "- Стек (stack):\n",
        "операции для стека: инициализация, проверка на пустоту, добавление нового элемента в начало, извлечение элемента из начала;\n",
        "- Дек (двусторонняя очередь, deque):\n",
        "операции для дека: инициализация, проверка на пустоту, добавление нового элемента в начало, добавление нового элемента в конец,\n",
        "извлечение элемента из начала, извлечение элемента из конца.\n",
        "\n",
        "Разработать программу обработки данных, содержащихся в заранее подготовленном txt-файле, в соответствии с заданиями, применив\n",
        "указанную в задании структуру данных. Результат работы программы вывести на экран и сохранить в отдельном txt-файле.\n",
        "Оформить отчет о лабораторной работе в ipynb или pdf-файле."
      ],
      "attachments":{
        
      },
      "metadata":{
        
      }
    },
    {
      "cell_type":"code",
      "source":[
        "class LinkedNode:\n",
        "    'Связный список с ссылками на обратный и следующий элемент'\n",
        "    def __init__(self, value=None):\n",
        "        self.value = value\n",
        "        self.right = None\n",
        "        self.left = None"
      ],
      "execution_count":null,
      "outputs":[
        
      ],
      "metadata":{
        
      }
    },
    {
      "cell_type":"code",
      "source":[
        "class Stack:\n",
        "    def __init__(self):\n",
        "        self.head = LinkedNode()\n",
        "        self.size = 0\n",
        "\n",
        "    def is_empty(self):\n",
        "        return self.size == 0\n",
        "\n",
        "    def push(self, value):\n",
        "        if self.size > 0:\n",
        "            node = LinkedNode(value)\n",
        "            node.right = self.head\n",
        "            self.head = node\n",
        "        else:\n",
        "            self.head.value = value\n",
        "        self.size += 1\n",
        "      \n",
        "    def pop(self):\n",
        "        if self.is_empty():\n",
        "            raise Exception(\"Popping from an empty stack\")\n",
        "        remove = self.head\n",
        "        if self.size > 1:\n",
        "            self.head = remove.right\n",
        "        self.size -= 1\n",
        "        return remove.value\n",
        "    \n",
        "    def peek(self):\n",
        "        if self.is_empty():\n",
        "            raise Exception(\"Popping from an empty stack\")\n",
        "        return self.head.value\n",
        "    \n",
        "    def __len__(self):\n",
        "        return self.size\n",
        "\n",
        "    def reverse(self):\n",
        "        current = self.head\n",
        "        prev = None\n",
        "        next = None\n",
        "    \n",
        "        while current is not None:\n",
        "            next = current.right\n",
        "            current.right = prev\n",
        "            prev = current\n",
        "            current = next\n",
        "\n",
        "        self.head = prev"
      ],
      "execution_count":null,
      "outputs":[
        
      ],
      "metadata":{
        
      }
    },
    {
      "cell_type":"code",
      "source":[
        "class Deque:\n",
        "    def __init__(self):\n",
        "        self.head = LinkedNode()\n",
        "        self.tail = self.head\n",
        "        self.size = 0\n",
        "    \n",
        "    def is_empty(self):\n",
        "        return self.size == 0\n",
        "\n",
        "    def push_left(self, value):\n",
        "        if self.size > 0:\n",
        "            node = LinkedNode(value)\n",
        "            node.right = self.tail\n",
        "            self.tail.left = node\n",
        "            self.tail = node\n",
        "        else:\n",
        "            self.tail.value = value\n",
        "        self.size += 1\n",
        "\n",
        "    def push(self, value):\n",
        "        if self.size > 0:\n",
        "            node = LinkedNode(value)\n",
        "            node.left = self.head\n",
        "            self.head.right = node\n",
        "            self.head = node\n",
        "        else:\n",
        "            self.head.value = value\n",
        "        self.size += 1\n",
        "    \n",
        "    def pop_left(self):\n",
        "        if self.is_empty():\n",
        "            raise Exception(\"Popping from an empty deque\")\n",
        "        remove = self.tail\n",
        "        if self.size > 1:\n",
        "            self.tail = remove.right\n",
        "        self.size -= 1\n",
        "        return remove.value\n",
        "    \n",
        "    def pop(self):\n",
        "        if self.is_empty():\n",
        "            raise Exception(\"Popping from an empty deque\")\n",
        "        remove = self.head\n",
        "        if self.size > 1:\n",
        "            self.head = remove.left\n",
        "        self.size -= 1\n",
        "        return remove.value\n",
        "    \n",
        "    def peek(self):\n",
        "        if self.is_empty():\n",
        "            raise Exception(\"Popping from an empty deque\")\n",
        "        return self.head.value\n",
        "    \n",
        "    def peek_left(self):\n",
        "        if self.is_empty():\n",
        "            raise Exception(\"Popping from an empty deque\")\n",
        "        return self.tail.value\n",
        "\n",
        "    def __len__(self):\n",
        "        return self.size"
      ],
      "execution_count":null,
      "outputs":[
        
      ],
      "metadata":{
        
      }
    },
    {
      "cell_type":"markdown",
      "source":[
        "### Задания:"
      ],
      "attachments":{
        
      },
      "metadata":{
        
      }
    },
    {
      "cell_type":"markdown",
      "source":[
        "##### Задача 1.  \n",
        "Отсортировать строки файла, содержащие названия книг, в алфавитном порядке с использованием двух деков."
      ],
      "attachments":{
        
      },
      "metadata":{
        
      }
    },
    {
      "cell_type":"code",
      "source":[
        "def task01(pathfile):\n",
        "    with open(pathfile, 'r', encoding='utf-8') as books:\n",
        "        q1 = Deque()\n",
        "        q2 = Deque()\n",
        "        for book in books:\n",
        "            q1.push(book)\n",
        "        while not q1.is_empty():\n",
        "            x = q1.pop()\n",
        "            while not q2.is_empty() and q2.peek() > x:\n",
        "                q1.push_left(q2.pop())\n",
        "            q2.push(x)\n",
        "        while not q2.is_empty():\n",
        "            print(q2.pop_left())"
      ],
      "execution_count":null,
      "outputs":[
        
      ],
      "metadata":{
        
      }
    },
    {
      "cell_type":"code",
      "source":[
        "task01('books1.txt')"
      ],
      "execution_count":null,
      "outputs":[
        
      ],
      "metadata":{
        
      }
    },
    {
      "cell_type":"markdown",
      "source":[
        "##### Задача 2. \n",
        "Дек содержит последовательность символов для шифровки сообщений. Дан текстовый файл, содержащий зашифрованное сообщение. Пользуясь деком, расшифровать текст. Известно, что при шифровке каждый символ сообщения заменялся следующим за ним в деке по часовой стрелке через один."
      ],
      "attachments":{
        
      },
      "metadata":{
        
      }
    },
    {
      "cell_type":"code",
      "source":[
        "def alph(alphabet):\n",
        "    alphabet = list('абвгдеёжзийклмнопрстуфхцчшщъыьэюя')\n",
        "    keyRing = Deque()\n",
        "    for letter in alphabet:\n",
        "        keyRing.push(letter)"
      ],
      "execution_count":null,
      "outputs":[
        
      ],
      "metadata":{
        
      }
    },
    {
      "cell_type":"code",
      "source":[
        "def encode_char(c):\n",
        "    for i in range(len(keyRing)):\n",
        "        x = keyRing.pop_left()\n",
        "        if x == c:\n",
        "            keyRing.push(x)\n",
        "            val = keyRing.pop_left()\n",
        "            keyRing.push(val)\n",
        "            return val\n",
        "        keyRing.push(x)\n",
        "\n",
        "def decode_char(c):\n",
        "    for i in range(len(keyRing)):\n",
        "        x = keyRing.pop()\n",
        "        if x == c:\n",
        "            keyRing.push_left(x)\n",
        "            val = keyRing.pop()\n",
        "            keyRing.push_left(val)\n",
        "            return val\n",
        "        keyRing.push_left(x)"
      ],
      "execution_count":null,
      "outputs":[
        
      ],
      "metadata":{
        
      }
    },
    {
      "cell_type":"code",
      "source":[
        "def task02(text):\n",
        "    encoded = ''\n",
        "    for letter in text:\n",
        "        if encoded_letter := encode_char(letter): encoded += encoded_letter\n",
        "        else: encoded += letter\n",
        "    print(\"Зашифрованный текст:\\n\", encoded, \"\\n\")\n",
        "\n",
        "    decoded = ''\n",
        "    for letter in encoded:\n",
        "        if decoded_letter := decode_char(letter): decoded += decoded_letter\n",
        "        else: decoded += letter\n",
        "    print(\"Расшифрованный текст:\\n\", decoded)"
      ],
      "execution_count":null,
      "outputs":[
        
      ],
      "metadata":{
        
      }
    },
    {
      "cell_type":"code",
      "source":[
        "inputText = 'Дек — линейная структура, в которой операции включения и исключения элементов могут выполняться как с одного, так и с другого конца последовательности. Дек — симбиоз стека и очереди, то есть дисциплинами обслуживания являются одновременно LIFO и FIFO.'\n",
        "task02(inputText)"
      ],
      "execution_count":null,
      "outputs":[
        
      ],
      "metadata":{
        
      }
    },
    {
      "cell_type":"markdown",
      "source":[
        "##### Задача 3.\n",
        "Даны три стержня и n дисков различного размера. Диски можно надевать на стержни, образуя из них башни. Перенести n дисков со стержня А на стержень С, сохранив их первоначальный порядок. При переносе дисков необходимо соблюдать следующие правила:\n",
        "- на каждом шаге со стержня на стержень переносить только один диск;\n",
        "- диск нельзя помещать на диск меньшего размера;\n",
        "- для промежуточного хранения можно использовать стержень В.\n",
        "\n",
        "Реализовать алгоритм, используя три стека вместо стержней А, В и С."
      ],
      "attachments":{
        
      },
      "metadata":{
        
      }
    },
    {
      "cell_type":"code",
      "source":[
        "def move(a, b):\n",
        "    if len(a) == 0 and len(b) > 0:\n",
        "        a.push(b.pop())\n",
        "    elif len(a) > 0 and len(b) == 0:\n",
        "        b.push(a.pop())\n",
        "    elif a.peek() > b.peek():\n",
        "        a.push(b.pop())\n",
        "    else:\n",
        "        b.push(a.pop())"
      ],
      "execution_count":null,
      "outputs":[
        
      ],
      "metadata":{
        
      }
    },
    {
      "cell_type":"code",
      "source":[
        "def task03(disks):\n",
        "    A = Stack()\n",
        "    B = Stack()\n",
        "    C = Stack()\n",
        "\n",
        "    for i in range(disks, 0, -1):\n",
        "        A.push(i)\n",
        "\n",
        "    if disks % 2 == 0:\n",
        "        while len(C) != disks:\n",
        "            move(A, B)\n",
        "            move(A, C)\n",
        "            move(B, C)\n",
        "    else:\n",
        "        while len(C) != disks:\n",
        "            move(A, C)\n",
        "            move(A, B)\n",
        "            move(B, C)\n",
        "\n",
        "    while not C.is_empty():\n",
        "        print(C.pop())"
      ],
      "execution_count":null,
      "outputs":[
        
      ],
      "metadata":{
        
      }
    },
    {
      "cell_type":"code",
      "source":[
        "task03(6)"
      ],
      "execution_count":null,
      "outputs":[
        
      ],
      "metadata":{
        
      }
    },
    {
      "cell_type":"markdown",
      "source":[
        "##### Задача 4. \n",
        "Дан текстовый файл с программой на алгоритмическом языке. За один просмотр файла проверить баланс круглых скобок в тексте, используя стек."
      ],
      "attachments":{
        
      },
      "metadata":{
        
      }
    },
    {
      "cell_type":"code",
      "source":[
        "def task04(string):\n",
        "    bracket_stack = Stack()\n",
        "    for i in string:\n",
        "        if i == '(':\n",
        "            bracket_stack.push(i)\n",
        "        elif i == ')':\n",
        "            if bracket_stack.is_empty():\n",
        "                return False\n",
        "            bracket_stack.pop()\n",
        "    return bracket_stack.is_empty()\n",
        "\n",
        "print(task04('()(())((())(()(())()'))\n",
        "print(task04('(()()))(()())(())())'))\n",
        "print(task04('(()())()()()()(()(()(())()))'))"
      ],
      "execution_count":null,
      "outputs":[
        
      ],
      "metadata":{
        
      }
    },
    {
      "cell_type":"markdown",
      "source":[
        "##### Задача 5. \n",
        "Дан текстовый файл с программой на алгоритмическом языке. За один просмотр файла проверить баланс квадратных скобок в тексте, используя дек."
      ],
      "attachments":{
        
      },
      "metadata":{
        
      }
    },
    {
      "cell_type":"code",
      "source":[
        "def task05(string):\n",
        "    bracket_stack = Deque()\n",
        "    for i in string:\n",
        "        if i == '[':\n",
        "            bracket_stack.push(i)\n",
        "        elif i == ']':\n",
        "            if bracket_stack.is_empty():\n",
        "                return False\n",
        "            bracket_stack.pop()\n",
        "    return bracket_stack.is_empty()\n",
        "\n",
        "print(task05('[][[][[[[]][[]]]]]]'))\n",
        "print(task05('[]][[][][[[[]]]]]'))\n",
        "print(task05('[[][][][[][]][][[][][][][]]][]'))"
      ],
      "execution_count":null,
      "outputs":[
        
      ],
      "metadata":{
        
      }
    },
    {
      "cell_type":"markdown",
      "source":[
        "##### Задача 6. \n",
        "Дан файл из символов. Используя стек, за один просмотр файла напечатать сначала все цифры, затем все буквы, и, наконец, все остальные символы, сохраняя исходный порядок в каждой группе символов."
      ],
      "attachments":{
        
      },
      "metadata":{
        
      }
    },
    {
      "cell_type":"code",
      "source":[
        "def task06(text):\n",
        "    letters = Stack()\n",
        "    digits = Stack()\n",
        "    others = Stack()\n",
        "\n",
        "    for c in text:\n",
        "        if c.isalpha(): letters.push(c)\n",
        "        elif c.isdigit(): digits.push(c)\n",
        "        else: others.push(c)\n",
        "\n",
        "    new_text = ''\n",
        "\n",
        "    letters.reverse()\n",
        "    digits.reverse()\n",
        "    others.reverse()\n",
        "\n",
        "    while not digits.is_empty():\n",
        "        new_text += digits.pop()\n",
        "\n",
        "    while not letters.is_empty():\n",
        "        new_text += letters.pop()\n",
        "\n",
        "    while not others.is_empty():\n",
        "        new_text += others.pop()\n",
        "\n",
        "    print(new_text)"
      ],
      "execution_count":null,
      "outputs":[
        
      ],
      "metadata":{
        
      }
    },
    {
      "cell_type":"code",
      "source":[
        "text = 'Стек — это347448 область опе8545ративной памяти, ко 75625торая работает в поряд7896ке 45посл478едний добавленный в 96стек кусок памяти буд453247ет первым в  26436 очереди на вывод.'\n",
        "task06(text)"
      ],
      "execution_count":null,
      "outputs":[
        
      ],
      "metadata":{
        
      }
    },
    {
      "cell_type":"markdown",
      "source":[
        "##### Задача 7.\n",
        "Дан файл из целых чисел. Используя дек, за один просмотр файла напечатать сначала все отрицательные числа, затем все положительные числа, сохраняя исходный порядок в каждой группе."
      ],
      "attachments":{
        
      },
      "metadata":{
        
      }
    },
    {
      "cell_type":"code",
      "source":[
        "import random"
      ],
      "execution_count":null,
      "outputs":[
        
      ],
      "metadata":{
        
      }
    },
    {
      "cell_type":"code",
      "source":[
        "def task07(numbers):\n",
        "    deque = Deque()\n",
        "    for n in numbers:\n",
        "        if n < 0:\n",
        "            deque.push_left(n)\n",
        "        else:\n",
        "            deque.push(n)\n",
        "\n",
        "    while not deque.is_empty():\n",
        "        x = deque.pop_left()\n",
        "        if x < 0:\n",
        "            deque.push(x)\n",
        "        else:\n",
        "            deque.push_left(x)\n",
        "            break\n",
        "\n",
        "    while not deque.is_empty():\n",
        "        x = deque.pop()\n",
        "        if x < 0:\n",
        "            print(x)\n",
        "        else:\n",
        "            deque.push(x)\n",
        "            break\n",
        "\n",
        "    while not deque.is_empty():\n",
        "        print(deque.pop_left())"
      ],
      "execution_count":null,
      "outputs":[
        
      ],
      "metadata":{
        
      }
    },
    {
      "cell_type":"code",
      "source":[
        "numbers = [random.randint(-10, 10) for i in range(10)]\n",
        "print(numbers)\n",
        "\n",
        "task07(numbers)"
      ],
      "execution_count":null,
      "outputs":[
        
      ],
      "metadata":{
        
      }
    },
    {
      "cell_type":"markdown",
      "source":[
        "##### Задача 8. \n",
        "Дан текстовый файл. Используя стек, сформировать новый текстовый файл, содержащий строки исходного файла, записанные в обратном порядке: первая строка становится последней, вторая – предпоследней и т.д."
      ],
      "attachments":{
        
      },
      "metadata":{
        
      }
    },
    {
      "cell_type":"code",
      "source":[
        "def task08(pathfile):\n",
        "    with open(pathfile, 'r', encoding='utf-8') as books:\n",
        "        stack = Stack()\n",
        "        for book in books:\n",
        "            book = book.strip()\n",
        "            stack.push(book)\n",
        "        print()\n",
        "        while not stack.is_empty():\n",
        "            print(stack.pop())"
      ],
      "execution_count":null,
      "outputs":[
        
      ],
      "metadata":{
        
      }
    },
    {
      "cell_type":"code",
      "source":[
        "task08('books1.txt')"
      ],
      "execution_count":null,
      "outputs":[
        
      ],
      "metadata":{
        
      }
    },
    {
      "cell_type":"markdown",
      "source":[
        "##### Задача 9.\n",
        "Дан текстовый файл. Используя стек, вычислить значение логического выражения, записанного в текстовом файле в следующей форме:\n",
        "\n",
        "<ЛВ> ::= T|F|(N<ЛВ>)|(<ЛВ>A<ЛВ>)|(<ЛВ>X<ЛВ>)|(<ЛВ>O<ЛВ>)\n",
        "\n",
        "где буквами обозначены логические константы и операции:\n",
        "\n",
        "T - True,\n",
        "\n",
        "F - False,\n",
        "\n",
        "N - Not,\n",
        "\n",
        "A - And,\n",
        "\n",
        "X - Xor,\n",
        "\n",
        "O - Or."
      ],
      "attachments":{
        
      },
      "metadata":{
        
      }
    },
    {
      "cell_type":"code",
      "source":[
        "def task09(text):\n",
        "    opstack = Stack()\n",
        "    vstack = Stack()\n",
        "\n",
        "    cur = 0\n",
        "    while True:\n",
        "        read = False\n",
        "        if not opstack.is_empty():\n",
        "            if opstack.peek() == 'N':\n",
        "                if vstack.is_empty():\n",
        "                    read = True\n",
        "                else:\n",
        "                    if vstack.pop() == 'T':\n",
        "                        vstack.push('F')\n",
        "                    else:\n",
        "                        vstack.push('T')\n",
        "                    opstack.pop()\n",
        "            elif opstack.peek() == 'A':\n",
        "                if len(vstack) < 2:\n",
        "                    read = True\n",
        "                else:\n",
        "                    a = vstack.pop()\n",
        "                    b = vstack.pop()\n",
        "                    if a == b and b == 'T':\n",
        "                        vstack.push('T')\n",
        "                    else:\n",
        "                        vstack.push('F')\n",
        "                    opstack.pop()\n",
        "            elif opstack.peek() == 'O':\n",
        "                if len(vstack) < 2:\n",
        "                    read = True\n",
        "                else:\n",
        "                    a = vstack.pop()\n",
        "                    b = vstack.pop()\n",
        "                    if a == 'T' or b == 'T':\n",
        "                        vstack.push('T')\n",
        "                    else:\n",
        "                        vstack.push('F')\n",
        "                    opstack.pop()\n",
        "            elif opstack.peek() == 'X':\n",
        "                if len(vstack) < 2:\n",
        "                    read = True\n",
        "                else:\n",
        "                    a = vstack.pop()\n",
        "                    b = vstack.pop()\n",
        "                    if a != b:\n",
        "                        vstack.push('T')\n",
        "                    else:\n",
        "                        vstack.push('F')\n",
        "                    opstack.pop()\n",
        "            elif opstack.peek() == '(':\n",
        "                read = True\n",
        "            elif opstack.peek() == ')':\n",
        "                opstack.pop()\n",
        "                opstack.pop()\n",
        "        else:\n",
        "            read = True\n",
        "        if read:\n",
        "            i = text[cur]\n",
        "            if i in 'FT':\n",
        "                vstack.push(i)\n",
        "            if i in 'AXON()':\n",
        "                opstack.push(i)\n",
        "            cur += 1\n",
        "    \n",
        "\n",
        "        if cur == len(text) and len(opstack) == 0:\n",
        "            break\n",
        "\n",
        "    while not vstack.is_empty():\n",
        "        print(vstack.pop())"
      ],
      "execution_count":null,
      "outputs":[
        
      ],
      "metadata":{
        
      }
    },
    {
      "cell_type":"code",
      "source":[
        "text = '((T)XF)X(TAT)OT'\n",
        "task09(text)"
      ],
      "execution_count":null,
      "outputs":[
        
      ],
      "metadata":{
        
      }
    },
    {
      "cell_type":"markdown",
      "source":[
        "##### Задача 10.\n",
        "Дан текстовый файл. В текстовом файле записана формула следующего вида:\n",
        "\n",
        "<Формула> ::= <Цифра>|M(<Формула>,<Формула>)|N(<Формула>,<Формула>)\n",
        "\n",
        "<Цифра> ::= 0|1|2|3|4|5|6|7|8|9\n",
        "\n",
        "где буквами обозначены функции:\n",
        "M - определение максимума,\n",
        "N - определение минимума.\n",
        "Используя стек, вычислить значение заданного выражения."
      ],
      "attachments":{
        
      },
      "metadata":{
        
      }
    },
    {
      "cell_type":"code",
      "source":[
        "def task10(text):\n",
        "    op = Stack()\n",
        "    nums = Stack()\n",
        "\n",
        "    num = ''\n",
        "\n",
        "    cur = 0\n",
        "    while cur < len(text):\n",
        "        i = text[cur]\n",
        "        if i.isdigit():\n",
        "            num += i\n",
        "        elif num != '':\n",
        "            nums.push(int(num))\n",
        "            num = ''\n",
        "        if i in 'MN':\n",
        "            op.push(i)\n",
        "        cur += 1\n",
        "\n",
        "    while not op.is_empty():\n",
        "        a = nums.pop()\n",
        "        b = nums.pop()\n",
        "        if a < b:\n",
        "            a,b = b,a\n",
        "        if op.pop() == 'M':\n",
        "            nums.push(a)\n",
        "        else:\n",
        "            nums.push(b)\n",
        "\n",
        "    while not nums.is_empty():\n",
        "        print(nums.pop())"
      ],
      "execution_count":null,
      "outputs":[
        
      ],
      "metadata":{
        
      }
    },
    {
      "cell_type":"code",
      "source":[
        "text = 'N(10, M(4, N(8, M(7, M(6, M(5, 4))))))'\n",
        "task10(text)"
      ],
      "execution_count":null,
      "outputs":[
        
      ],
      "metadata":{
        
      }
    },
    {
      "cell_type":"markdown",
      "source":[
        "##### Задача 11.\n",
        "Дан текстовый файл. Используя стек, проверить, является ли содержимое текстового файла правильной записью формулы вида:\n",
        "\n",
        "<Формула> ::= <Терм> | <Терм> + <Формула> | <Терм> - <Формула>\n",
        "\n",
        "<Терм> ::= <Имя> | (<Формула>)\n",
        "\n",
        "<Имя> ::= x | y | z"
      ],
      "attachments":{
        
      },
      "metadata":{
        
      }
    },
    {
      "cell_type":"code",
      "source":[
        "def check(text):\n",
        "    stack = Stack()\n",
        "    \n",
        "    cur = 0\n",
        "    while True:\n",
        "        read = False\n",
        "        if not stack.is_empty():\n",
        "            if stack.peek() == '(':\n",
        "                read = True\n",
        "            elif stack.peek() == ')':\n",
        "                stack.pop()\n",
        "                if len(stack) < 2 or stack.pop() != 'formula' or stack.pop() != '(':\n",
        "                    return False\n",
        "                stack.push('formula')\n",
        "            elif stack.peek() == 'formula':\n",
        "                stack.pop()\n",
        "                if len(stack) > 1 and stack.peek() in '+-':\n",
        "                    if stack.pop() in '+-' and stack.pop() == 'formula':\n",
        "                        stack.push('formula')\n",
        "                    else:\n",
        "                        return False\n",
        "                else:\n",
        "                    stack.push('formula')\n",
        "                    read = True\n",
        "            else:\n",
        "                read = True\n",
        "        else:\n",
        "            read = True\n",
        "        if read:\n",
        "            i = text[cur]\n",
        "            if i in 'xyz':\n",
        "                stack.push('formula')\n",
        "            elif i in '()+-':\n",
        "                stack.push(i)\n",
        "            cur += 1\n",
        "        if cur == len(text) and len(stack) == 1:\n",
        "            break\n",
        "    return True\n",
        "\n",
        "check('((x + y) + (x - y) + z)')"
      ],
      "execution_count":null,
      "outputs":[
        
      ],
      "metadata":{
        
      }
    },
    {
      "cell_type":"markdown",
      "source":[
        "### Вывод: в ходе данной лабораторной работы я научился работать со стеком и деком и применять их использование в решение задач."
      ],
      "attachments":{
        
      },
      "metadata":{
        
      }
    }
  ],
  "metadata":{
    
  },
  "nbformat":4,
  "nbformat_minor":0
}