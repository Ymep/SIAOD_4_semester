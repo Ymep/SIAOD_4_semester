{
  "cells":[
    {
      "cell_type":"markdown",
      "source":[
        "# Лабораторная работа №1\n",
        "# **Выполнил студент группы БВТ1903 Шевченко А.А.**\n",
        "# Задание\n",
        "Реализовать заданный метод сортировки строк числовой матрицы в соответствии с индивидуальным заданием. Для всех вариантов добавить реализацию быстрой сортировки (quicksort). Оценить время работы каждого алгоритма сортировки и сравнить его со временем стандартной функции сортировки, используемой в выбранном языке программирования."
      ],
      "attachments":{
        
      },
      "metadata":{
        
      }
    },
    {
      "cell_type":"markdown",
      "source":[
        "# Методы сортировок"
      ],
      "attachments":{
        
      },
      "metadata":{
        
      }
    },
    {
      "cell_type":"markdown",
      "source":[
        "[**Cортировка по умолчанию**](https:\/\/docs.python.org\/3\/library\/stdtypes.html#list.sort)"
      ],
      "attachments":{
        
      },
      "metadata":{
        
      }
    },
    {
      "cell_type":"code",
      "source":[
        "def default_sort(array):  # Сортируем с помощью встроенной функции\n",
        "    array.sort()\n",
        "    return array"
      ],
      "execution_count":null,
      "outputs":[
        
      ],
      "metadata":{
        
      }
    },
    {
      "cell_type":"markdown",
      "source":[
        "[**Cортировка выбором**](https:\/\/ru.wikipedia.org\/wiki\/%D0%A1%D0%BE%D1%80%D1%82%D0%B8%D1%80%D0%BE%D0%B2%D0%BA%D0%B0_%D0%B2%D1%8B%D0%B1%D0%BE%D1%80%D0%BE%D0%BC)"
      ],
      "attachments":{
        
      },
      "metadata":{
        
      }
    },
    {
      "cell_type":"code",
      "source":[
        "def selection_sort(array):  # Сортировка выбором (selection sort)\n",
        "    for main_index in range(len(array)):\n",
        "        min_index = main_index\n",
        "        for index in range(main_index, len(array)):\n",
        "            if array[index] < array[main_index]:\n",
        "                min_index = index\n",
        "        array[main_index], array[min_index] = array[min_index], array[main_index]\n",
        "    return array"
      ],
      "execution_count":null,
      "outputs":[
        
      ],
      "metadata":{
        
      }
    },
    {
      "cell_type":"markdown",
      "source":[
        "[**Cортировка вставками**](https:\/\/ru.wikipedia.org\/wiki\/%D0%A1%D0%BE%D1%80%D1%82%D0%B8%D1%80%D0%BE%D0%B2%D0%BA%D0%B0_%D0%B2%D1%81%D1%82%D0%B0%D0%B2%D0%BA%D0%B0%D0%BC%D0%B8)"
      ],
      "attachments":{
        
      },
      "metadata":{
        
      }
    },
    {
      "cell_type":"code",
      "source":[
        "def ins_sort(array):  # Сортировка вставками (insertion sort)\n",
        "    for main_index in range(len(array)):  # Идём вперёд\n",
        "        if main_index != len(array) - 1 and array[main_index] > array[main_index + 1]:\n",
        "            array[main_index], array[main_index + 1] = array[main_index + 1], array[main_index]\n",
        "            for index in range(len(array) - 1, 0, -1):  # Идём назад\n",
        "                if array[index] <= array[index - 1]:\n",
        "                    array[index - 1], array[index] = array[index], array[index - 1]\n",
        "    return array"
      ],
      "execution_count":null,
      "outputs":[
        
      ],
      "metadata":{
        
      }
    },
    {
      "cell_type":"markdown",
      "source":[
        "[**Cортировка обменом**](https:\/\/ru.wikipedia.org\/wiki\/%D0%A1%D0%BE%D1%80%D1%82%D0%B8%D1%80%D0%BE%D0%B2%D0%BA%D0%B0_%D0%BF%D1%83%D0%B7%D1%8B%D1%80%D1%8C%D0%BA%D0%BE%D0%BC)"
      ],
      "attachments":{
        
      },
      "metadata":{
        
      }
    },
    {
      "cell_type":"code",
      "source":[
        "def bubble_sort(array):  # Сортировка обменом (bubble sort)\n",
        "    for main_index in range(len(array) - 1):\n",
        "        for index in range(0, len(array) - main_index - 1):\n",
        "            if array[index] > array[index + 1]:\n",
        "                array[index], array[index + 1] = array[index + 1], array[index]\n",
        "    return array"
      ],
      "execution_count":null,
      "outputs":[
        
      ],
      "metadata":{
        
      }
    },
    {
      "cell_type":"markdown",
      "source":[
        "[**Cортировка Шелла**](https:\/\/ru.wikipedia.org\/wiki\/%D0%A1%D0%BE%D1%80%D1%82%D0%B8%D1%80%D0%BE%D0%B2%D0%BA%D0%B0_%D0%A8%D0%B5%D0%BB%D0%BB%D0%B0)"
      ],
      "attachments":{
        
      },
      "metadata":{
        
      }
    },
    {
      "cell_type":"code",
      "source":[
        "def shell_sort(array):\n",
        "    gap = len(array) \/\/ 2\n",
        "    while gap > 0:\n",
        "        for i in range(gap, len(array)):\n",
        "            temp = array[i]\n",
        "            j = i\n",
        "            while j >= gap and array[j - gap] > temp:\n",
        "                array[j] = array[j - gap]\n",
        "                j -= gap\n",
        "            array[j] = temp\n",
        "        gap \/\/= 2\n",
        "    return array"
      ],
      "execution_count":null,
      "outputs":[
        
      ],
      "metadata":{
        
      }
    },
    {
      "cell_type":"markdown",
      "source":[
        "[**Пирамидальная сортировка**](https:\/\/ru.wikipedia.org\/wiki\/%D0%9F%D0%B8%D1%80%D0%B0%D0%BC%D0%B8%D0%B4%D0%B0%D0%BB%D1%8C%D0%BD%D0%B0%D1%8F_%D1%81%D0%BE%D1%80%D1%82%D0%B8%D1%80%D0%BE%D0%B2%D0%BA%D0%B0)"
      ],
      "attachments":{
        
      },
      "metadata":{
        
      }
    },
    {
      "cell_type":"code",
      "source":[
        "def heapify(array, length, index_of_largest):\n",
        "    largest = index_of_largest\n",
        "    child_left = 2 * index_of_largest + 1\n",
        "    child_right = 2 * index_of_largest + 2\n",
        "\n",
        "    if child_left < length and array[largest] < array[child_left]:\n",
        "        largest = child_left\n",
        "\n",
        "    if child_right < length and array[largest] < array[child_right]:\n",
        "        largest = child_right\n",
        "\n",
        "    if largest != index_of_largest:\n",
        "        array[index_of_largest], array[largest] = array[largest], array[index_of_largest]\n",
        "\n",
        "        heapify(array, length, largest)\n",
        "\n",
        "\n",
        "def heap_sort(array):\n",
        "    n = len(array)\n",
        "\n",
        "    for i in range(n, -1, -1):\n",
        "        heapify(array, n, i)\n",
        "\n",
        "    for i in range(n - 1, 0, -1):\n",
        "        array[i], array[0] = array[0], array[i]\n",
        "        heapify(array, i, 0)\n",
        "    return array"
      ],
      "execution_count":null,
      "outputs":[
        
      ],
      "metadata":{
        
      }
    },
    {
      "cell_type":"markdown",
      "source":[
        "[**Быстрая сортировка**](https:\/\/ru.wikipedia.org\/wiki\/%D0%91%D1%8B%D1%81%D1%82%D1%80%D0%B0%D1%8F_%D1%81%D0%BE%D1%80%D1%82%D0%B8%D1%80%D0%BE%D0%B2%D0%BA%D0%B0)"
      ],
      "attachments":{
        
      },
      "metadata":{
        
      }
    },
    {
      "cell_type":"code",
      "source":[
        "def qsort(array):\n",
        "    if not array:  # Если пустой массив\n",
        "        return array\n",
        "    pivot = array[random.choice(range(0, len(array)))]\n",
        "\n",
        "    head = qsort([x for x in array if x < pivot])\n",
        "    tail = qsort([x for x in array if x > pivot])\n",
        "    return head + [x for x in array if x == pivot] + tail"
      ],
      "execution_count":null,
      "outputs":[
        
      ],
      "metadata":{
        
      }
    },
    {
      "cell_type":"markdown",
      "source":[
        "# Далее релизован код для:"
      ],
      "attachments":{
        
      },
      "metadata":{
        
      }
    },
    {
      "cell_type":"markdown",
      "source":[
        "**Генерации случайного массива**"
      ],
      "attachments":{
        
      },
      "metadata":{
        
      }
    },
    {
      "cell_type":"code",
      "source":[
        "import random\n",
        "\n",
        "def generate_array(length=100):  # генерирует случайный массив\n",
        "    array = []\n",
        "    while len(array) < length:\n",
        "        array.append(random.randint(0, 1000))\n",
        "    return array\n",
        "\n",
        "init_array = generate_array(1_000)  # Генерация массива, который будет отсортирован"
      ],
      "execution_count":null,
      "outputs":[
        
      ],
      "metadata":{
        
      }
    },
    {
      "cell_type":"markdown",
      "source":[
        "**Измерения времени каждого способа сортировки**"
      ],
      "attachments":{
        
      },
      "metadata":{
        
      }
    },
    {
      "cell_type":"code",
      "source":[
        "\n",
        "import timeit\n",
        "\n",
        "# Сортировка массива и вывод времени\n",
        "print(\"Сортировка по умолчанию   \" + str(timeit.timeit(\"default_sort(init_array)\", number=1, globals=globals())))\n",
        "print(\"Сортировка выбором        \" + str(timeit.timeit(\"selection_sort(init_array)\", number=1, globals=globals())))\n",
        "print(\"Сортировка вставками      \" + str(timeit.timeit(\"ins_sort(init_array)\", number=1, globals=globals())))\n",
        "print(\"Сортировка обменом        \" + str(timeit.timeit(\"bubble_sort(init_array)\", number=1, globals=globals())))\n",
        "print(\"Сортировка Шелла          \" + str(timeit.timeit(\"shell_sort(init_array)\", number=1, globals=globals())))\n",
        "print(\"Пирамидальня Сортировка   \" + str(timeit.timeit(\"heap_sort(init_array)\", number=1, globals=globals())))\n",
        "print(\"Быстрая сортировка        \" + str(timeit.timeit(\"qsort(init_array)\", number=1, globals=globals())))"
      ],
      "execution_count":null,
      "outputs":[
        
      ],
      "metadata":{
        
      }
    },
    {
      "cell_type":"markdown",
      "source":[
        "# вывод\n",
        "мной были реализованы методы сортировки строк числовой матрицы.Так же было оценено время работы каждого алгоритма сортировки."
      ],
      "attachments":{
        
      },
      "metadata":{
        
      }
    }
  ],
  "metadata":{
    
  },
  "nbformat":4,
  "nbformat_minor":0
}